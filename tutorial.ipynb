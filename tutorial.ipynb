{
 "cells": [
  {
   "cell_type": "code",
   "execution_count": 1,
   "metadata": {},
   "outputs": [],
   "source": [
    "import os\n",
    "import qiime2.plugins.dada2.actions as dada2_actions\n",
    "import qiime2.plugins.demux.actions as demux_actions\n",
    "import qiime2.plugins.diversity.actions as diversity_actions\n",
    "import qiime2.plugins.emperor.actions as emperor_actions\n",
    "import qiime2.plugins.feature_classifier.actions as feature_classifier_actions\n",
    "import qiime2.plugins.feature_table.actions as feature_table_actions\n",
    "import qiime2.plugins.metadata.actions as metadata_actions\n",
    "import qiime2.plugins.phylogeny.actions as phylogeny_actions\n",
    "import qiime2.plugins.taxa.actions as taxa_actions\n",
    "import zipfile\n",
    "\n",
    "from qiime2 import Metadata, Artifact\n",
    "from urllib import request\n",
    "from pathlib import Path"
   ]
  },
  {
   "cell_type": "code",
   "execution_count": 2,
   "metadata": {},
   "outputs": [],
   "source": [
    "# Download the metadata and save it to both a file and an object\n",
    "\n",
    "url = 'https://docs.qiime2.org/2024.5/data/tutorials/moving-pictures-usage/sample-metadata.tsv'\n",
    "fn = 'sample-metadata.tsv'\n",
    "request.urlretrieve(url, fn)\n",
    "sample_metadata_md = Metadata.load(fn)"
   ]
  },
  {
   "cell_type": "code",
   "execution_count": 3,
   "metadata": {},
   "outputs": [],
   "source": [
    "# Download the zipped sequences and unzip them, delete the zipped file\n",
    "\n",
    "url = 'https://docs.qiime2.org/2024.5/data/tutorials/moving-pictures-usage/emp-single-end-sequences.zip'\n",
    "file_path = 'emp-single-end-sequences.zip'\n",
    "request.urlretrieve(url, file_path)\n",
    "with zipfile.ZipFile(file_path) as zipped:\n",
    "    zipped.extractall('emp-single-end-sequences')\n",
    "os.remove(file_path)"
   ]
  },
  {
   "cell_type": "code",
   "execution_count": 4,
   "metadata": {},
   "outputs": [
    {
     "data": {
      "text/plain": [
       "(UUID('fb83c36b-39d5-4c9e-a9be-643f7688aab4'),\n",
       " q2_types.multiplexed_sequences._format.EMPSingleEndDirFmt,\n",
       " q2_types.multiplexed_sequences._format.EMPSingleEndDirFmt)"
      ]
     },
     "execution_count": 4,
     "metadata": {},
     "output_type": "execute_result"
    }
   ],
   "source": [
    "# Load the file into an artifact\n",
    "\n",
    "emp_single_end_sequences  = Artifact.import_data(\n",
    "    type = 'EMPSingleEndSequences',\n",
    "    view = 'emp-single-end-sequences')\n",
    "\n",
    "emp_single_end_sequences.uuid, emp_single_end_sequences.format, emp_single_end_sequences.format"
   ]
  },
  {
   "cell_type": "code",
   "execution_count": 5,
   "metadata": {},
   "outputs": [
    {
     "name": "stderr",
     "output_type": "stream",
     "text": [
      "/opt/conda/envs/qiime2-amplicon-2024.5/lib/python3.9/site-packages/seaborn/_oldcore.py:1119: FutureWarning: use_inf_as_na option is deprecated and will be removed in a future version. Convert inf values to NaN before operating instead.\n",
      "  with pd.option_context('mode.use_inf_as_na', True):\n",
      "/opt/conda/envs/qiime2-amplicon-2024.5/lib/python3.9/site-packages/q2_demux/_summarize/_visualizer.py:180: FutureWarning: The behavior of DataFrame concatenation with empty or all-NA entries is deprecated. In a future version, this will no longer exclude empty or all-NA columns when determining the result dtypes. To retain the old behavior, exclude the relevant entries before the concat operation.\n",
      "  context['result_data'] = pd.concat([context['result_data'], df])\n",
      "/opt/conda/envs/qiime2-amplicon-2024.5/lib/python3.9/site-packages/q2_demux/_summarize/_visualizer.py:74: FutureWarning: Setting an item of incompatible dtype is deprecated and will raise an error in a future version of pandas. Value '['152 nts' '152 nts' '152 nts' '152 nts' '152 nts' '152 nts' '152 nts']' has dtype incompatible with float64, please explicitly cast to a compatible dtype first.\n",
      "  stats[stats.index != 'count'] = \\\n"
     ]
    },
    {
     "data": {
      "text/plain": [
       "'demux_viz.qzv'"
      ]
     },
     "execution_count": 5,
     "metadata": {},
     "output_type": "execute_result"
    }
   ],
   "source": [
    "# Demultiplex the sequences using the barcodes from the provided metadata file, save visualized results\n",
    "\n",
    "barcode_seq_mdc = sample_metadata_md.get_column('barcode-sequence')\n",
    "demux, demux_details = demux_actions.emp_single(\n",
    "    seqs = emp_single_end_sequences,\n",
    "    barcodes = barcode_seq_mdc\n",
    ")\n",
    "demux_viz = demux_actions.summarize(data = demux)\n",
    "demux_viz.visualization.save('demux_viz.qzv')"
   ]
  },
  {
   "cell_type": "code",
   "execution_count": 6,
   "metadata": {},
   "outputs": [
    {
     "name": "stdout",
     "output_type": "stream",
     "text": [
      "Running external command line application(s). This may print messages to stdout and/or stderr.\n",
      "The command(s) being run are below. These commands cannot be manually re-run as they will depend on temporary files that no longer exist.\n",
      "\n",
      "Command: run_dada.R --input_directory /tmp/qiime2/root/data/b200a6cc-f3cc-4c86-8a6d-f73652b12fc7/data --output_path /tmp/tmpnddjxu2u/output.tsv.biom --output_track /tmp/tmpnddjxu2u/track.tsv --filtered_directory /tmp/tmpnddjxu2u --truncation_length 120 --trim_left 0 --max_expected_errors 2.0 --truncation_quality_score 2 --max_length Inf --pooling_method independent --chimera_method consensus --min_parental_fold 1.0 --allow_one_off False --num_threads 1 --learn_min_reads 1000000 --homopolymer_gap_penalty NULL --band_size 16\n",
      "\n",
      "R version 4.3.3 (2024-02-29) \n"
     ]
    },
    {
     "name": "stderr",
     "output_type": "stream",
     "text": [
      "Loading required package: Rcpp\n"
     ]
    },
    {
     "name": "stdout",
     "output_type": "stream",
     "text": [
      "DADA2: 1.30.0 / Rcpp: 1.0.12 / RcppParallel: 5.1.6 \n",
      "2) Filtering ..................................\n",
      "3) Learning Error Rates\n",
      "19539480 total bases in 162829 reads from 34 samples will be used for learning the error rates.\n",
      "4) Denoise samples \n",
      "..................................\n",
      "5) Remove chimeras (method = consensus)\n",
      "6) Report read numbers through the pipeline\n",
      "7) Write output\n"
     ]
    }
   ],
   "source": [
    "# Create feature table via dada2 denoising\n",
    "# trim_left and trunc_len selected via demux.qzv quality plots\n",
    "\n",
    "table, rep_seqs, stats = dada2_actions.denoise_single(\n",
    "    demultiplexed_seqs=demux,\n",
    "    trim_left=0,\n",
    "    trunc_len=120,\n",
    ")"
   ]
  },
  {
   "cell_type": "code",
   "execution_count": 7,
   "metadata": {},
   "outputs": [
    {
     "data": {
      "text/plain": [
       "'stats.qzv'"
      ]
     },
     "execution_count": 7,
     "metadata": {},
     "output_type": "execute_result"
    }
   ],
   "source": [
    "# Visualize dada2 stats\n",
    "\n",
    "stats_dada2_md_md = stats.view(Metadata)\n",
    "stats_viz, = metadata_actions.tabulate(\n",
    "    input=stats_dada2_md_md,\n",
    ")\n",
    "stats_viz.save('stats')"
   ]
  },
  {
   "cell_type": "code",
   "execution_count": 8,
   "metadata": {},
   "outputs": [
    {
     "name": "stderr",
     "output_type": "stream",
     "text": [
      "/opt/conda/envs/qiime2-amplicon-2024.5/lib/python3.9/site-packages/seaborn/_oldcore.py:1119: FutureWarning: use_inf_as_na option is deprecated and will be removed in a future version. Convert inf values to NaN before operating instead.\n",
      "  with pd.option_context('mode.use_inf_as_na', True):\n",
      "/opt/conda/envs/qiime2-amplicon-2024.5/lib/python3.9/site-packages/seaborn/_oldcore.py:1119: FutureWarning: use_inf_as_na option is deprecated and will be removed in a future version. Convert inf values to NaN before operating instead.\n",
      "  with pd.option_context('mode.use_inf_as_na', True):\n"
     ]
    },
    {
     "data": {
      "text/plain": [
       "'table_summary.qzv'"
      ]
     },
     "execution_count": 8,
     "metadata": {},
     "output_type": "execute_result"
    }
   ],
   "source": [
    "# Visualize feature table summary\n",
    "table_viz, = feature_table_actions.summarize(\n",
    "    table=table,\n",
    "    sample_metadata=sample_metadata_md,\n",
    ")\n",
    "table_viz.save('table_summary')"
   ]
  },
  {
   "cell_type": "code",
   "execution_count": 9,
   "metadata": {},
   "outputs": [
    {
     "data": {
      "text/plain": [
       "'rep-seqs.qzv'"
      ]
     },
     "execution_count": 9,
     "metadata": {},
     "output_type": "execute_result"
    }
   ],
   "source": [
    "# Visualize sequence tabulation\n",
    "rep_seqs_viz, = feature_table_actions.tabulate_seqs(\n",
    "    data=rep_seqs,\n",
    ")\n",
    "rep_seqs_viz.save('rep-seqs')"
   ]
  },
  {
   "cell_type": "code",
   "execution_count": 10,
   "metadata": {},
   "outputs": [
    {
     "name": "stdout",
     "output_type": "stream",
     "text": [
      "Running external command line application. This may print messages to stdout and/or stderr.\n",
      "The command being run is below. This command cannot be manually re-run as it will depend on temporary files that no longer exist.\n",
      "\n",
      "Command: mafft --preservecase --inputorder --thread 1 /tmp/qiime2/root/data/fa8be225-a953-47c2-8c35-18b6f4d8b4cd/data/dna-sequences.fasta\n",
      "\n"
     ]
    },
    {
     "name": "stderr",
     "output_type": "stream",
     "text": [
      "inputfile = orig\n",
      "770 x 120 - 120 d\n",
      "nthread = 1\n",
      "nthreadpair = 1\n",
      "nthreadtb = 1\n",
      "ppenalty_ex = 0\n",
      "stacksize: 8192 kb\n",
      "generating a scoring matrix for nucleotide (dist=200) ... done\n",
      "Gap Penalty = -1.53, +0.00, +0.00\n",
      "\n",
      "\n",
      "\n",
      "Making a distance matrix ..\n",
      "  701 / 770 (thread    0)\n",
      "done.\n",
      "\n",
      "Constructing a UPGMA tree (efffree=0) ... \n",
      "  760 / 770\n",
      "done.\n",
      "\n",
      "Progressive alignment 1/2... \n",
      "STEP   347 / 769 (thread    0)\n",
      "Reallocating..done. *alloclen = 1241\n",
      "STEP   701 / 769 (thread    0) h\n",
      "done.\n",
      "\n",
      "Making a distance matrix from msa.. \n",
      "  700 / 770 (thread    0)\n",
      "done.\n",
      "\n",
      "Constructing a UPGMA tree (efffree=1) ... \n",
      "  760 / 770\n",
      "done.\n",
      "\n",
      "Progressive alignment 2/2... \n",
      "STEP   601 / 769 (thread    0)\n",
      "Reallocating..done. *alloclen = 1241\n",
      "STEP   701 / 769 (thread    0)\n",
      "done.\n",
      "\n",
      "disttbfast (nuc) Version 7.520\n",
      "alg=A, model=DNA200 (2), 1.53 (4.59), -0.00 (-0.00), noshift, amax=0.0\n",
      "1 thread(s)\n",
      "\n",
      "\n",
      "Strategy:\n",
      " FFT-NS-2 (Fast but rough)\n",
      " Progressive method (guide trees were built 2 times.)\n",
      "\n",
      "If unsure which option to use, try 'mafft --auto input > output'.\n",
      "For more information, see 'mafft --help', 'mafft --man' and the mafft page.\n",
      "\n",
      "The default gap scoring scheme has been changed in version 7.110 (2013 Oct).\n",
      "It tends to insert more gaps into gap-rich regions than previous versions.\n",
      "To disable this change, add the --leavegappyregion option.\n",
      "\n"
     ]
    },
    {
     "name": "stdout",
     "output_type": "stream",
     "text": [
      "Running external command line application. This may print messages to stdout and/or stderr.\n",
      "The command being run is below. This command cannot be manually re-run as it will depend on temporary files that no longer exist.\n",
      "\n",
      "Command: FastTree -quote -nt /tmp/qiime2/root/data/7400d83a-6a5e-492b-9360-ee2cae5d4d26/data/aligned-dna-sequences.fasta\n",
      "\n"
     ]
    },
    {
     "name": "stderr",
     "output_type": "stream",
     "text": [
      "FastTree Version 2.1.11 Double precision (No SSE3)\n",
      "Alignment: /tmp/qiime2/root/data/7400d83a-6a5e-492b-9360-ee2cae5d4d26/data/aligned-dna-sequences.fasta\n",
      "Nucleotide distances: Jukes-Cantor Joins: balanced Support: SH-like 1000\n",
      "Search: Normal +NNI +SPR (2 rounds range 10) +ML-NNI opt-each=1\n",
      "TopHits: 1.00*sqrtN close=default refresh=0.80\n",
      "ML Model: Jukes-Cantor, CAT approximation with 20 rate categories\n",
      "      0.10 seconds: Joined    700 of    750\n",
      "Initial topology in 0.11 seconds\n",
      "Refining topology: 38 rounds ME-NNIs, 2 rounds ME-SPRs, 19 rounds ML-NNIs\n",
      "      0.20 seconds: SPR round   1 of   2, 701 of 1504 nodes\n",
      "      0.31 seconds: SPR round   2 of   2, 101 of 1504 nodes\n",
      "      0.42 seconds: SPR round   2 of   2, 1001 of 1504 nodes\n",
      "Total branch-length 39.069 after 0.48 sec\n",
      "      0.52 seconds: ML Lengths 701 of 751 splits\n",
      "      0.64 seconds: ML NNI round 1 of 19, 601 of 751 splits, 109 changes (max delta 9.502)\n",
      "ML-NNI round 1: LogLk = -23827.725 NNIs 136 max delta 9.50 Time 0.67\n",
      "Switched to using 20 rate categories (CAT approximation)\n",
      "Rate categories were divided by 0.999 so that average rate = 1.0\n",
      "CAT-based log-likelihoods may not be comparable across runs\n",
      "Use -gamma for approximate but comparable Gamma(20) log-likelihoods\n",
      "      0.75 seconds: ML NNI round 2 of 19, 301 of 751 splits, 39 changes (max delta 4.478)\n",
      "ML-NNI round 2: LogLk = -20487.017 NNIs 89 max delta 11.36 Time 0.83\n",
      "      0.86 seconds: ML NNI round 3 of 19, 201 of 751 splits, 14 changes (max delta 5.213)\n",
      "ML-NNI round 3: LogLk = -20458.045 NNIs 33 max delta 5.21 Time 0.92\n",
      "ML-NNI round 4: LogLk = -20453.481 NNIs 18 max delta 0.78 Time 0.97\n",
      "      0.96 seconds: ML NNI round 5 of 19, 1 of 751 splits\n",
      "ML-NNI round 5: LogLk = -20450.606 NNIs 8 max delta 0.72 Time 0.99\n",
      "ML-NNI round 6: LogLk = -20450.493 NNIs 2 max delta 0.00 Time 1.01\n",
      "Turning off heuristics for final round of ML NNIs (converged)\n",
      "      1.07 seconds: ML NNI round 7 of 19, 301 of 751 splits, 4 changes (max delta 0.574)\n",
      "ML-NNI round 7: LogLk = -20441.697 NNIs 8 max delta 0.92 Time 1.16 (final)\n",
      "      1.17 seconds: ML Lengths 201 of 751 splits\n",
      "Optimize all lengths: LogLk = -20440.938 Time 1.20\n",
      "      1.27 seconds: ML split tests for    300 of    750 internal splits\n",
      "      1.37 seconds: ML split tests for    700 of    750 internal splits\n",
      "Total time: 1.39 seconds Unique: 753/770 Bad splits: 1/750 Worst delta-LogLk 0.302\n"
     ]
    }
   ],
   "source": [
    "# Create phylogenetic tree via mafft \n",
    "\n",
    "action_results = phylogeny_actions.align_to_tree_mafft_fasttree(\n",
    "    sequences=rep_seqs,\n",
    ")\n",
    "aligned_rep_seqs = action_results.alignment\n",
    "masked_aligned_rep_seqs = action_results.masked_alignment\n",
    "unrooted_tree = action_results.tree\n",
    "rooted_tree = action_results.rooted_tree"
   ]
  },
  {
   "cell_type": "code",
   "execution_count": 11,
   "metadata": {},
   "outputs": [
    {
     "name": "stderr",
     "output_type": "stream",
     "text": [
      "/opt/conda/envs/qiime2-amplicon-2024.5/lib/python3.9/site-packages/skbio/util/_warning.py:60: UserWarning: observed_otus is deprecated as of 0.6.0.\n",
      "  warn(f\"{func.__name__} is deprecated as of {ver}.\")\n",
      "/opt/conda/envs/qiime2-amplicon-2024.5/lib/python3.9/site-packages/skbio/stats/ordination/_principal_coordinate_analysis.py:146: RuntimeWarning: The result contains negative eigenvalues. Please compare their magnitude with the magnitude of some of the largest positive eigenvalues. If the negative ones are smaller, it's probably safe to ignore them, but if they are large in magnitude, the results won't be useful. See the Notes section for more details. The smallest eigenvalue is -0.012906881790344004 and the largest is 3.6061779605598283.\n",
      "  warn(\n"
     ]
    },
    {
     "name": "stdout",
     "output_type": "stream",
     "text": [
      "Running external command line application. This may print messages to stdout and/or stderr.\n",
      "The command being run is below. This command cannot be manually re-run as it will depend on temporary files that no longer exist.\n",
      "\n",
      "Command:\n",
      "\n",
      "faithpd -i /tmp/qiime2/root/data/e172aff2-8538-4b60-978c-994930824427/data/feature-table.biom -t /tmp/qiime2/root/data/c896947e-5580-44e4-afbf-c390eb051472/data/tree.nwk -o /tmp/q2-AlphaDiversityFormat-gkdlvy9b\n",
      "\n",
      "Running external command line application. This may print messages to stdout and/or stderr.\n",
      "The command being run is below. This command cannot be manually re-run as it will depend on temporary files that no longer exist.\n",
      "\n",
      "Command:\n",
      "\n",
      "ssu -i /tmp/qiime2/root/data/e172aff2-8538-4b60-978c-994930824427/data/feature-table.biom -t /tmp/qiime2/root/data/c896947e-5580-44e4-afbf-c390eb051472/data/tree.nwk -m unweighted -o /tmp/q2-LSMatFormat-dwhd7mk8\n",
      "\n",
      "Running external command line application. This may print messages to stdout and/or stderr.\n",
      "The command being run is below. This command cannot be manually re-run as it will depend on temporary files that no longer exist.\n",
      "\n",
      "Command:\n",
      "\n",
      "ssu -i /tmp/qiime2/root/data/e172aff2-8538-4b60-978c-994930824427/data/feature-table.biom -t /tmp/qiime2/root/data/c896947e-5580-44e4-afbf-c390eb051472/data/tree.nwk -m weighted_unnormalized -o /tmp/q2-LSMatFormat-s2s3vz2_\n",
      "\n"
     ]
    },
    {
     "name": "stderr",
     "output_type": "stream",
     "text": [
      "/opt/conda/envs/qiime2-amplicon-2024.5/lib/python3.9/site-packages/skbio/stats/ordination/_principal_coordinate_analysis.py:146: RuntimeWarning: The result contains negative eigenvalues. Please compare their magnitude with the magnitude of some of the largest positive eigenvalues. If the negative ones are smaller, it's probably safe to ignore them, but if they are large in magnitude, the results won't be useful. See the Notes section for more details. The smallest eigenvalue is -0.007318310116003781 and the largest is 2.6616837815787857.\n",
      "  warn(\n",
      "/opt/conda/envs/qiime2-amplicon-2024.5/lib/python3.9/site-packages/skbio/stats/ordination/_principal_coordinate_analysis.py:146: RuntimeWarning: The result contains negative eigenvalues. Please compare their magnitude with the magnitude of some of the largest positive eigenvalues. If the negative ones are smaller, it's probably safe to ignore them, but if they are large in magnitude, the results won't be useful. See the Notes section for more details. The smallest eigenvalue is -0.018735290589744946 and the largest is 2.0717196537302778.\n",
      "  warn(\n"
     ]
    }
   ],
   "source": [
    "# Generate diversity analysis, save artifacts we use later\n",
    "\n",
    "action_results = diversity_actions.core_metrics_phylogenetic(\n",
    "    phylogeny=rooted_tree,\n",
    "    table=table,\n",
    "    sampling_depth=1103,\n",
    "    metadata=sample_metadata_md,\n",
    ")\n",
    "bray_curtis_pcoa_results = action_results.bray_curtis_pcoa_results\n",
    "evenness_vector = action_results.evenness_vector\n",
    "faith_pd_vector = action_results.faith_pd_vector\n",
    "unweighted_unifrac_distance_matrix = action_results.unweighted_unifrac_distance_matrix\n",
    "unweighted_unifrac_pcoa_results = action_results.unweighted_unifrac_pcoa_results"
   ]
  },
  {
   "cell_type": "code",
   "execution_count": 12,
   "metadata": {},
   "outputs": [
    {
     "name": "stderr",
     "output_type": "stream",
     "text": [
      "/opt/conda/envs/qiime2-amplicon-2024.5/lib/python3.9/site-packages/q2_types/sample_data/_transformer.py:27: FutureWarning: errors='ignore' is deprecated and will raise in a future version. Use to_numeric without passing `errors` and catch exceptions explicitly instead\n",
      "  df[cols] = df[cols].apply(pd.to_numeric, errors='ignore')\n",
      "/opt/conda/envs/qiime2-amplicon-2024.5/lib/python3.9/site-packages/q2_types/sample_data/_transformer.py:27: FutureWarning: errors='ignore' is deprecated and will raise in a future version. Use to_numeric without passing `errors` and catch exceptions explicitly instead\n",
      "  df[cols] = df[cols].apply(pd.to_numeric, errors='ignore')\n"
     ]
    },
    {
     "data": {
      "text/plain": [
       "'evenness.viz.qzv'"
      ]
     },
     "execution_count": 12,
     "metadata": {},
     "output_type": "execute_result"
    }
   ],
   "source": [
    "# Save richness and evenness visualizations\n",
    "\n",
    "faith_pd_group_significance_viz, = diversity_actions.alpha_group_significance(\n",
    "    alpha_diversity=faith_pd_vector,\n",
    "    metadata=sample_metadata_md,\n",
    ")\n",
    "evenness_group_significance_viz, = diversity_actions.alpha_group_significance(\n",
    "    alpha_diversity=evenness_vector,\n",
    "    metadata=sample_metadata_md,\n",
    ")\n",
    "faith_pd_group_significance_viz.save('faith_viz')\n",
    "evenness_group_significance_viz.save('evenness.viz')"
   ]
  },
  {
   "cell_type": "code",
   "execution_count": 13,
   "metadata": {},
   "outputs": [
    {
     "name": "stderr",
     "output_type": "stream",
     "text": [
      "/opt/conda/envs/qiime2-amplicon-2024.5/lib/python3.9/site-packages/q2_diversity/_beta/_visualizer.py:181: FutureWarning: The behavior of DataFrame concatenation with empty or all-NA entries is deprecated. In a future version, this will no longer exclude empty or all-NA columns when determining the result dtypes. To retain the old behavior, exclude the relevant entries before the concat operation.\n",
      "  pairs_summary = pd.concat([pairs_summary, group_pairs_summary])\n",
      "/opt/conda/envs/qiime2-amplicon-2024.5/lib/python3.9/site-packages/q2_diversity/_beta/_visualizer.py:181: FutureWarning: The behavior of DataFrame concatenation with empty or all-NA entries is deprecated. In a future version, this will no longer exclude empty or all-NA columns when determining the result dtypes. To retain the old behavior, exclude the relevant entries before the concat operation.\n",
      "  pairs_summary = pd.concat([pairs_summary, group_pairs_summary])\n"
     ]
    },
    {
     "data": {
      "text/plain": [
       "'subject.qzv'"
      ]
     },
     "execution_count": 13,
     "metadata": {},
     "output_type": "execute_result"
    }
   ],
   "source": [
    "# Create and save visualizations for significant relationships between categorical metadata and beta-diversity\n",
    "body_site_mdc = sample_metadata_md.get_column('body-site')\n",
    "unweighted_unifrac_body_site_group_significance_viz, = diversity_actions.beta_group_significance(\n",
    "    distance_matrix=unweighted_unifrac_distance_matrix,\n",
    "    metadata=body_site_mdc,\n",
    "    pairwise=True,\n",
    ")\n",
    "unweighted_unifrac_body_site_group_significance_viz.save('body-site')\n",
    "subject_mdc = sample_metadata_md.get_column('subject')\n",
    "unweighted_unifrac_subject_group_significance_viz, = diversity_actions.beta_group_significance(\n",
    "    distance_matrix=unweighted_unifrac_distance_matrix,\n",
    "    metadata=subject_mdc,\n",
    "    pairwise=True,\n",
    ")\n",
    "unweighted_unifrac_body_site_group_significance_viz.save('subject')"
   ]
  },
  {
   "cell_type": "code",
   "execution_count": 14,
   "metadata": {},
   "outputs": [
    {
     "data": {
      "text/plain": [
       "'bray_curtis_emperor_days_since_experiment_start_viz.qzv'"
      ]
     },
     "execution_count": 14,
     "metadata": {},
     "output_type": "execute_result"
    }
   ],
   "source": [
    "# Generate principle coordinate analysis over time using days since experiment start\n",
    "\n",
    "unweighted_unifrac_emperor_days_since_experiment_start_viz, = emperor_actions.plot(\n",
    "    pcoa=unweighted_unifrac_pcoa_results,\n",
    "    metadata=sample_metadata_md,\n",
    "    custom_axes=['days-since-experiment-start'],\n",
    ")\n",
    "unweighted_unifrac_emperor_days_since_experiment_start_viz.save('unweighted_unifrac_emperor_days_since_experiment_start_viz')\n",
    "bray_curtis_emperor_days_since_experiment_start_viz, = emperor_actions.plot(\n",
    "    pcoa=bray_curtis_pcoa_results,\n",
    "    metadata=sample_metadata_md,\n",
    "    custom_axes=['days-since-experiment-start'],\n",
    ")\n",
    "bray_curtis_emperor_days_since_experiment_start_viz.save('bray_curtis_emperor_days_since_experiment_start_viz')"
   ]
  },
  {
   "cell_type": "code",
   "execution_count": 15,
   "metadata": {},
   "outputs": [],
   "source": [
    "url = 'https://docs.qiime2.org/2024.5/data/tutorials/moving-pictures-usage/gg-13-8-99-515-806-nb-classifier.qza'\n",
    "fn = 'gg-13-8-99-515-806-nb-classifier.qza'\n",
    "request.urlretrieve(url, fn)\n",
    "gg_13_8_99_515_806_nb_classifier = Artifact.load(fn)"
   ]
  },
  {
   "cell_type": "code",
   "execution_count": 16,
   "metadata": {},
   "outputs": [
    {
     "data": {
      "text/plain": [
       "'taxonomy.qzv'"
      ]
     },
     "execution_count": 16,
     "metadata": {},
     "output_type": "execute_result"
    }
   ],
   "source": [
    "# Use naive bayes classifier for taxonomy assignment\n",
    "\n",
    "taxonomy, = feature_classifier_actions.classify_sklearn(\n",
    "    classifier=gg_13_8_99_515_806_nb_classifier,\n",
    "    reads=rep_seqs,\n",
    ")\n",
    "taxonomy_as_md_md = taxonomy.view(Metadata)\n",
    "taxonomy_viz, = metadata_actions.tabulate(\n",
    "    input=taxonomy_as_md_md,\n",
    ")\n",
    "taxonomy_viz.save('taxonomy')"
   ]
  },
  {
   "cell_type": "code",
   "execution_count": 17,
   "metadata": {},
   "outputs": [
    {
     "data": {
      "text/plain": [
       "'taxonomy_bar.qzv'"
      ]
     },
     "execution_count": 17,
     "metadata": {},
     "output_type": "execute_result"
    }
   ],
   "source": [
    "# Create taxonomic bar plot\n",
    "\n",
    "taxa_bar_plots_viz, = taxa_actions.barplot(\n",
    "    table=table,\n",
    "    taxonomy=taxonomy,\n",
    "    metadata=sample_metadata_md,\n",
    ")\n",
    "taxa_bar_plots_viz.save('taxonomy_bar')"
   ]
  },
  {
   "cell_type": "code",
   "execution_count": 18,
   "metadata": {},
   "outputs": [],
   "source": [
    "# Clean up vizualizations\n",
    "cwd = Path(os.getcwd())\n",
    "os.mkdir(cwd.joinpath('vizualizations'))\n",
    "for file in os.listdir(cwd):\n",
    "    if file[-4:] == '.qzv':\n",
    "        os.rename(cwd.joinpath(file), cwd.joinpath('vizualizations').joinpath(file))"
   ]
  }
 ],
 "metadata": {
  "kernelspec": {
   "display_name": "qiime2-amplicon-2024.5",
   "language": "python",
   "name": "python3"
  },
  "language_info": {
   "codemirror_mode": {
    "name": "ipython",
    "version": 3
   },
   "file_extension": ".py",
   "mimetype": "text/x-python",
   "name": "python",
   "nbconvert_exporter": "python",
   "pygments_lexer": "ipython3",
   "version": "3.9.19"
  }
 },
 "nbformat": 4,
 "nbformat_minor": 2
}
